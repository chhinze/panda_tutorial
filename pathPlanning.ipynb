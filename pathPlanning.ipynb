{
 "cells": [
  {
   "cell_type": "markdown",
   "metadata": {},
   "source": [
    "\n",
    "## How the path planning is done:\n",
    "\n",
    "The overall trajectory is described by a path $p(t): \\mathbb R \\mapsto \\mathbb R^3$. We decouple the spatial planning from the time coordinate, by splitting it into the path itself, which is parametrized by its arc length with a length coordinate $s$ as\n",
    "\n",
    "$$ p(s) \\in \\mathbb R^3, \\quad s \\in [0,L].$$\n",
    "\n",
    "In a separate step a motion profile is used to generate a smooth mapping $s(t): \\mathbb R \\mapsto \\mathbb R$, connecting the arc length with a time coordinate.\n",
    "\n",
    "Finally, by inserting the motion profile into the path, we get\n",
    "\n",
    "$$ p(t) = p(s(t)) \\in \\mathbb R^3 $$\n",
    "\n",
    "\n",
    "![Speed Profile $s(t)$ with normalized length and time.](img/SpeedProfile.svg){#fig:speedProfile}\n",
    "\n",
    "![Example Path $p(s)$ for a continuous $s$ coordinate and path velocities for a discretization based on the speed profile, resulting in $p(s(t))$.](img/SampleTrajectory.svg){#fig:sampleTrajectory}\n",
    "\n",
    "The principle is visualized in {@fig:sampleTrajectory}, where a desired 2D trajectory $p(s)$ is shown. The speed Profile $s(t)$, pictured on {@fig:speedProfile}, is used to map the path location $s$ to a specific time $t$ and obtain the desired trajectory at discrete time points (i.e. $p(s(t))$, where $t \\in 0(h)t_E$ with discretization step width $h$ and motion end time $t_E$).\n",
    "\n",
    "### Motion Profile\n",
    "\n",
    "We use a polynomial reference trajectory $s(t)$ (see {@fig:speedProfile}), assuming no motion at begin and end of the trajectory (i.e. $\\dot s(t=\\{0, t_E\\}) = 0$, $\\ddot s(t=\\{0, t_E\\}) = 0$, ... ). We require the motion profile to be 3 times (velocity, acceleration, jerk) continuously differentiable on $t\\in [0, t_E]$ (in fact, a bijective mapping). This leads to a polynomial of order $N = 2*3+1 = 7$. We get (normalized for $s \\in [0,1], t\\in [0,t_E]$):\n",
    "\n",
    "$$s(t) = L \\sum_{k=4}^7 a_k \\left(t/t_E\\right)^k = a^T \\underbrace{{\\bar t}}_{\\frac{1}{t_E^k}\\begin{bmatrix}t^4\\\\t^5\\\\t^6\\\\t^7 \\end{bmatrix}}, \\quad\\text{with } a = \\begin{bmatrix} 35 &  -84 & 70 & -20 \\end{bmatrix}^T$$\n",
    "$$\\dot s(t) =  L\\sum_{k=4}^7 k a_k t^{k-1}/t_E^k, \\quad \\ddot s(t) = L\\sum_{k=4}^7 k (k-1) a_k t^{k-2}/t_E^k, \\quad \\ldots$$\n",
    "\n",
    "To assure, that dynamical limits are kept in Cartesian space, i.e. $\\| {\\dot p}(t)\\| \\leq v_{\\max}$ and $\\| {\\ddot p}(t) \\|\\leq a_{\\max}$, the motion profile needs to be transformed. Note, that $p(s)$ is parametrized by arc length, which yields $\\|p'(s)\\| \\equiv 1$. With the cuve derivatives $p'(s), p''(s)$, etc. known, we can express\n",
    "\n",
    "$$\\underbrace{\\|p'(s(t))\\|}_{=1} \\|\\dot s(t)\\| \\leq v_{\\max}, \\quad t \\in [0, t_E] $$\n",
    "$$\\Leftrightarrow \\|\\dot s(t)\\| \\leq v_{\\max}$$\n",
    "\n",
    "Solving $\\ddot s = 0$ yields the velocity maximum at $t_{\\max,v} = t_E/2$, where $\\dot s(t_{\\max,v}) = \\frac{35 L}{16 t_E}$. We get the constraint, that \n",
    "\n",
    "$$ t_E \\geq \\frac{35 L}{16 v_{\\max}}.$$\n",
    "\n",
    "Similarly, for $\\ddot s(t)$ we get maxima at $t_{\\max,a} = (5 \\pm t_E \\sqrt 5)/10$, which both yield $\\ddot s(t_{\\max,a}) \\approx_5\\mp 0.72143 L/t_E^2$. Hence, the second constraint is\n",
    "\n",
    "$$ t_E \\geq \\sqrt{ 7.51319 L /a_{\\max}}. $$\n",
    "\n",
    "By combining both constraints, we can give the end time $t_E$ as\n",
    "\n",
    "$$ t_E = \\max\\{35 L/(16 v_{\\max}), \\sqrt{7.51319 L /a_{\\max}} \\} .$$"
   ]
  },
  {
   "cell_type": "code",
   "execution_count": null,
   "metadata": {},
   "outputs": [],
   "source": []
  }
 ],
 "metadata": {
  "kernelspec": {
   "display_name": "Python 3",
   "language": "python",
   "name": "python3"
  },
  "language_info": {
   "codemirror_mode": {
    "name": "ipython",
    "version": 3
   },
   "file_extension": ".py",
   "mimetype": "text/x-python",
   "name": "python",
   "nbconvert_exporter": "python",
   "pygments_lexer": "ipython3",
   "version": "3.6.8"
  }
 },
 "nbformat": 4,
 "nbformat_minor": 2
}
